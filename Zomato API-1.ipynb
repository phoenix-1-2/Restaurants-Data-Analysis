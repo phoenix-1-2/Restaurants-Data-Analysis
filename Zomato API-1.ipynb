{
 "cells": [
  {
   "cell_type": "code",
   "execution_count": 99,
   "metadata": {},
   "outputs": [],
   "source": [
    "# important libraries\n",
    "import requests\n",
    "import numpy as np\n",
    "import pandas as pd\n",
    "import matplotlib.pyplot as plt"
   ]
  },
  {
   "cell_type": "code",
   "execution_count": 100,
   "metadata": {},
   "outputs": [],
   "source": [
    "# Devloper Guide\n",
    "# API : https://developers.zomato.com/api\n",
    "# API KEY : 744b1ffcc052dd3e2b54ec2262d406d2"
   ]
  },
  {
   "cell_type": "markdown",
   "metadata": {},
   "source": [
    "Fetch the cuisine_id of ‘Mexican’ cuisine using Zomato API."
   ]
  },
  {
   "cell_type": "code",
   "execution_count": 101,
   "metadata": {},
   "outputs": [
    {
     "name": "stdout",
     "output_type": "stream",
     "text": [
      "73\n"
     ]
    }
   ],
   "source": [
    "response = requests.get('https://developers.zomato.com/api/v2.1/cuisines',headers={\n",
    "      'user-key':'744b1ffcc052dd3e2b54ec2262d406d2',\n",
    "    'Accept': 'application/json'\n",
    "},params={\n",
    "    'city_id' : 1\n",
    "})\n",
    "python_data = response.json()\n",
    "cuisines = python_data['cuisines']\n",
    "cuisine_id = float('inf')\n",
    "for i in cuisines:\n",
    "    if i['cuisine']['cuisine_name']=='Mexican':\n",
    "         cuisine_id = i['cuisine']['cuisine_id']\n",
    "\n",
    "print(cuisine_id)"
   ]
  },
  {
   "cell_type": "markdown",
   "metadata": {},
   "source": [
    "Fetch the entityid and entitytype of place Connaught Place.\n",
    "Print the entityid and entitytype."
   ]
  },
  {
   "cell_type": "code",
   "execution_count": 102,
   "metadata": {},
   "outputs": [
    {
     "name": "stdout",
     "output_type": "stream",
     "text": [
      "subzone 104\n"
     ]
    }
   ],
   "source": [
    "response = requests.get('https://developers.zomato.com/api/v2.1/locations',headers={\n",
    "      'user-key':'744b1ffcc052dd3e2b54ec2262d406d2',\n",
    "    'Accept': 'application/json'\n",
    "},params={\n",
    "    'query' : 'Connaught Place'\n",
    "})\n",
    "python_data = response.json()\n",
    "python_data\n",
    "print(python_data['location_suggestions'][0]['entity_type'],python_data['location_suggestions'][0]['entity_id'])"
   ]
  },
  {
   "cell_type": "markdown",
   "metadata": {},
   "source": [
    "Fetch the top 10 best-rated restaurant serving ‘Mexican’ cuisine present in Connaught Place.\n",
    "Print the restaurant name, user rating and restaurant id."
   ]
  },
  {
   "cell_type": "code",
   "execution_count": 103,
   "metadata": {},
   "outputs": [
    {
     "name": "stdout",
     "output_type": "stream",
     "text": [
      "Farzi Cafe 4.5 18233593\n",
      "Chili's Grill & Bar 4.5 18537536\n",
      "Ministry Of Beer 4.4 18418277\n",
      "Warehouse Cafe 4.3 301605\n",
      "Xero Degrees 4.3 18729557\n",
      "Unplugged Courtyard 4.2 18216901\n",
      "Pebble Street 4.2 309859\n",
      "Chaayos - Meri Wali Chai 4.2 18237315\n",
      "The Beer Cafe - BIGGIE 4.2 307060\n",
      "Rodeo Cantina & Kitchen 4.1 18673403\n"
     ]
    }
   ],
   "source": [
    "response = requests.get('https://developers.zomato.com/api/v2.1/search', headers={\n",
    "    'user-key' : '744b1ffcc052dd3e2b54ec2262d406d2'\n",
    "},params={\n",
    "    'entity_id': 104,\n",
    "    'entity_type':'subzone',\n",
    "    'count': 10,\n",
    "    'cuisines':'73',\n",
    "    'sort':'rating',\n",
    "} )\n",
    "data = response.json()\n",
    "for i in data['restaurants']:\n",
    "    print(i['restaurant']['name'],i['restaurant']['user_rating']['aggregate_rating'],i['restaurant']['R']['res_id'])"
   ]
  },
  {
   "cell_type": "markdown",
   "metadata": {},
   "source": [
    "Fetch the category id of category type ‘Cafes’ using Zomato API.\n",
    "Print the category_id."
   ]
  },
  {
   "cell_type": "code",
   "execution_count": 104,
   "metadata": {},
   "outputs": [
    {
     "name": "stdout",
     "output_type": "stream",
     "text": [
      "6\n"
     ]
    }
   ],
   "source": [
    "response = requests.get('https://developers.zomato.com/api/v2.1/categories', headers={\n",
    "    'user-key' : '744b1ffcc052dd3e2b54ec2262d406d2'\n",
    "})\n",
    "data = response.json()\n",
    "for i in data['categories']:\n",
    "    if(i['categories']['name']=='Cafes'):\n",
    "        print(i['categories']['id'])"
   ]
  },
  {
   "cell_type": "markdown",
   "metadata": {},
   "source": [
    "Fetch the best-rated restaurant for ‘Mexican’ cuisine with category type ‘ Cafes’ present in Connaught Place using Zomato API.\n",
    "Print the restaurant name, user rating and restaurant id."
   ]
  },
  {
   "cell_type": "code",
   "execution_count": 105,
   "metadata": {},
   "outputs": [
    {
     "name": "stdout",
     "output_type": "stream",
     "text": [
      "Xero Degrees 4.3 18729557\n",
      "Chaayos - Meri Wali Chai 4.2 18237315\n",
      "The Art House Bar n Cafe 4.0 18863766\n",
      "Cafe Coffee Day - The Square 3.5 303034\n"
     ]
    }
   ],
   "source": [
    "response = requests.get('https://developers.zomato.com/api/v2.1/search', headers={\n",
    "    'user-key' : '744b1ffcc052dd3e2b54ec2262d406d2'\n",
    "},params={\n",
    "    'entity_id': 104,\n",
    "    'entity_type':'subzone',\n",
    "    'cuisines':'73',\n",
    "    'category':'6',\n",
    "    'sort':'rating',\n",
    "} )\n",
    "data = response.json()\n",
    "for i in data['restaurants']:\n",
    "    print(i['restaurant']['name'],i['restaurant']['user_rating']['aggregate_rating'],i['restaurant']['R']['res_id'])"
   ]
  },
  {
   "cell_type": "markdown",
   "metadata": {},
   "source": [
    "Fetch the latest review of the best-rated restaurant for ‘Mexican’ cuisine with Category type ‘Cafes’ present in Connaught Place using Zomato API.\n",
    "Print the name of user ,user rating and review text."
   ]
  },
  {
   "cell_type": "code",
   "execution_count": 106,
   "metadata": {},
   "outputs": [
    {
     "name": "stdout",
     "output_type": "stream",
     "text": [
      "Kanika Verma 5 It’s a nice café with wonderfully delicious fries and there sauce. Shakes are thick and pasta is quiet good. Café is small and there is also table system but it’s really good in food .\n",
      "Food Gali 4 The CP outlet is really small but they offer some great deals like pizza in a jar is my favourite. Do try this combination. It was really a new concept & overloaded with cheese.\n",
      "Janvi Kamra 5 \n",
      "Harpriya Singh 4 It's an amazing place to chill out with your friends. The sitting space is less. Orders may take a little time but the food is worth the wait. There food is amazingly good. It's worth the money.\n",
      "Megha 5 Superb place to hang out and chill with your friends.  Food is super delicious.  Peri peri fries are to die for ❤️\n"
     ]
    }
   ],
   "source": [
    "response =requests.get('https://developers.zomato.com/api/v2.1/reviews',headers={\n",
    "    'user-key' : '744b1ffcc052dd3e2b54ec2262d406d2'\n",
    "},params={\n",
    "    'res_id':18729557\n",
    "})\n",
    "data = response.json()\n",
    "for i in data['user_reviews']:\n",
    "    print (  i['review']['user']['name'] , i['review']['rating'] , i['review']['review_text']  )"
   ]
  },
  {
   "cell_type": "markdown",
   "metadata": {},
   "source": [
    "Fetch the details of \"Pa Pa Ya\" restaurant using Zomato API.\n",
    "Print the user rating, the average cost for two, cuisines and address of \"Pa Pa Ya\" restaurant."
   ]
  },
  {
   "cell_type": "code",
   "execution_count": 107,
   "metadata": {},
   "outputs": [
    {
     "name": "stdout",
     "output_type": "stream",
     "text": [
      "4.9\n",
      "2500\n",
      "Asian, Chinese, Thai, Japanese\n",
      "A-3, Select Citywalk, District Centre, Saket, New Delhi\n"
     ]
    }
   ],
   "source": [
    "# id of Pa Pa Ya 18429148 using Search\n",
    "response = requests.get('https://developers.zomato.com/api/v2.1/restaurant',headers={\n",
    "    'user-key' : '744b1ffcc052dd3e2b54ec2262d406d2'\n",
    "},params={\n",
    "    'res_id':18429148\n",
    "})\n",
    "data = response.json()\n",
    "print(data['user_rating']['aggregate_rating'])\n",
    "print(data['average_cost_for_two'])\n",
    "print(data['cuisines'])\n",
    "print(data['location']['address'])"
   ]
  },
  {
   "cell_type": "markdown",
   "metadata": {},
   "source": [
    "Find out whether online table reservation is supported in \"Pa Pa Ya\" restaurant or not using Zomato API.\n",
    "Print 'yes' if online table reservation is supported else 'no'"
   ]
  },
  {
   "cell_type": "code",
   "execution_count": 108,
   "metadata": {},
   "outputs": [
    {
     "name": "stdout",
     "output_type": "stream",
     "text": [
      "yes\n"
     ]
    }
   ],
   "source": [
    "response = requests.get('https://developers.zomato.com/api/v2.1/restaurant',headers={\n",
    "    'user-key' : '744b1ffcc052dd3e2b54ec2262d406d2'\n",
    "},params={\n",
    "    'res_id':18429148\n",
    "})\n",
    "data = response.json()\n",
    "if data['is_table_reservation_supported'] ==1 :\n",
    "    print('yes')\n",
    "else:\n",
    "    print('no')"
   ]
  },
  {
   "cell_type": "markdown",
   "metadata": {},
   "source": [
    "Fetch the latest review of \"Pa Pa Ya\" restaurant using Zomato API.\n",
    "Print the name of the user, user rating and review text.\n",
    "Note :\n",
    "Due to the limitation of the basic API plan, it can only fetch 5 latest review"
   ]
  },
  {
   "cell_type": "code",
   "execution_count": 109,
   "metadata": {},
   "outputs": [
    {
     "name": "stdout",
     "output_type": "stream",
     "text": [
      "Shweta Kumar 4 \n",
      "Hungry Wolfs 5 This place serves amazing food the ambiance is super good you can go on dates chill out with friends and family kitty’s aswell\n",
      "Rushil Badhwar 4 \n",
      "Anushri Tripathi 5 \n",
      "TheProud_Glutton 5 The best place to try so many different types of dimsums😋\n"
     ]
    }
   ],
   "source": [
    "response =requests.get('https://developers.zomato.com/api/v2.1/reviews',headers={\n",
    "    'user-key' : '744b1ffcc052dd3e2b54ec2262d406d2'\n",
    "},params={\n",
    "    'res_id':18429148\n",
    "})\n",
    "data = response.json()\n",
    "for i in data['user_reviews']:\n",
    "    print (  i['review']['user']['name'] , i['review']['rating'] , i['review']['review_text']  )"
   ]
  },
  {
   "cell_type": "markdown",
   "metadata": {},
   "source": [
    "Fetch the cuisine_id of of cuisine ‘BBQ’ using Zomato API.\n",
    "Print the cuisine_id"
   ]
  },
  {
   "cell_type": "code",
   "execution_count": 110,
   "metadata": {},
   "outputs": [
    {
     "name": "stdout",
     "output_type": "stream",
     "text": [
      "193\n"
     ]
    }
   ],
   "source": [
    "response = requests.get('https://developers.zomato.com/api/v2.1/cuisines',headers={\n",
    "      'user-key':'744b1ffcc052dd3e2b54ec2262d406d2'\n",
    "},params={\n",
    "    'city_id' : 1\n",
    "})\n",
    "python_data = response.json()\n",
    "cuisines = python_data['cuisines']\n",
    "cuisine_id = float('inf')\n",
    "for i in cuisines:\n",
    "    if i['cuisine']['cuisine_name']=='BBQ':\n",
    "         cuisine_id = i['cuisine']['cuisine_id']\n",
    "\n",
    "print(cuisine_id)"
   ]
  },
  {
   "cell_type": "markdown",
   "metadata": {},
   "source": [
    "Fetch the list of the top 10 restaurants serving cuisine ‘BBQ’ which are nearest to Coding Ninjas.\n",
    "Print the restaurant name, user rating, restaurant id and locality in which restaurant is present."
   ]
  },
  {
   "cell_type": "code",
   "execution_count": 111,
   "metadata": {},
   "outputs": [
    {
     "data": {
      "text/plain": [
       "{'location_suggestions': [{'entity_type': 'city',\n",
       "   'entity_id': 1,\n",
       "   'title': 'Delhi NCR',\n",
       "   'latitude': 28.625789,\n",
       "   'longitude': 77.210276,\n",
       "   'city_id': 1,\n",
       "   'city_name': 'Delhi NCR',\n",
       "   'country_id': 1,\n",
       "   'country_name': 'India'}],\n",
       " 'status': 'success',\n",
       " 'has_more': 0,\n",
       " 'has_total': 0,\n",
       " 'user_has_addresses': True}"
      ]
     },
     "execution_count": 111,
     "metadata": {},
     "output_type": "execute_result"
    }
   ],
   "source": [
    "# get location's entity_id\n",
    "response = requests.get('https://developers.zomato.com/api/v2.1/locations',headers={\n",
    "      'user-key':'744b1ffcc052dd3e2b54ec2262d406d2'\n",
    "},params={\n",
    "    'query' : 'Plot Number 360, Kohat Enclave Main Pitampura Road, Opposite Kohat Metro Station, exit 3, New Delhi, Delhi 110034' \n",
    "})\n",
    "response.json()"
   ]
  },
  {
   "cell_type": "code",
   "execution_count": 112,
   "metadata": {},
   "outputs": [
    {
     "name": "stdout",
     "output_type": "stream",
     "text": [
      "Themis Barbecue House 4.3 18204820 Netaji Subhash Place\n",
      "Barbeque Nation 4.6 9561 Netaji Subhash Place\n",
      "Amazings Kitchen 0 19370424 Prashant Vihar\n",
      "Moet's Barbeque 0 19238917 Alipur\n",
      "UBQ by Barbeque Nation 3.1 18889760 Rohini\n",
      "Kays Bar-Be-Que 3.9 3079 Ashok Vihar Phase 1\n",
      "Chicken Adda 0 19179179 Rohini\n",
      "7teen BBQ Bistro Bnq 3.9 18595610 Moti Nagar\n",
      "Pishori Chicken 0 19061375 Kirti Nagar\n",
      "Hunger On Wheels 0 19054336 Vijay Nagar\n"
     ]
    }
   ],
   "source": [
    "response = requests.get('https://developers.zomato.com/api/v2.1/search',headers={\n",
    "    'user-key':'744b1ffcc052dd3e2b54ec2262d406d2'\n",
    "},params={\n",
    "    'count':10,\n",
    "    'cuisines':'193',\n",
    "    'sort':'real_distance',\n",
    "    'lat': 28.6977,\n",
    "   'lon': 77.1406,\n",
    "})\n",
    "data = response.json()\n",
    "for i in data['restaurants']:\n",
    "    print(i['restaurant']['name'],i['restaurant']['user_rating']['aggregate_rating'],i['restaurant']['R']['res_id'],\n",
    "         i['restaurant']['location']['locality']\n",
    "         )"
   ]
  },
  {
   "cell_type": "markdown",
   "metadata": {},
   "source": [
    "Fetch the latest review of the restaurant serving cuisine ‘BBQ’ which is most nearest to Coding ninjas?\n",
    "Print the name of user ,user rating and review text."
   ]
  },
  {
   "cell_type": "code",
   "execution_count": 113,
   "metadata": {},
   "outputs": [
    {
     "name": "stdout",
     "output_type": "stream",
     "text": [
      "Milind 4 If u are bored of Barbeque nation , this place is must try for u🤓🔥😅. It is one of the best barbeque restaurants in Delhi offering rooftop seating . So we opted for rooftop seating for our lunch & the view was amazing 🔥😻. We opted for veg buffet which included a range of starters like crispy corn , paneer tikka , spicy mushroom . Then in main course we tried manchurian with noodles . As a complementary drink I ordered Kiwi mojito which was so refreshing & eye catchy too😻🔥🔥🔥🤓🤓. So if u visit Pitampura next time don't miss this amazing place.👻🔥🤓😻😻\n",
      "Shashank Agarwal 4 Great place for an experience of grill in north delhi. Great starters, nice main course and average dessert.\n",
      "Babu Beg 5 Staff was polite (5*) speedy service (5*) food was delicious and had plenty options. The only difference I could notice that staff was either not well aware of the schemes offered by the Restaurant or were pretending as there didn't exist any scheme (which otherwise were appearing even on the pamphlet put on the table). Still would love to visit again soon.\n",
      "... 4 \n",
      "Abhishek Sharma 5 Their buffet is definitely better than barbeque nation.\n"
     ]
    }
   ],
   "source": [
    "response =requests.get('https://developers.zomato.com/api/v2.1/reviews',headers={\n",
    "    'user-key' : '744b1ffcc052dd3e2b54ec2262d406d2'\n",
    "},params={\n",
    "    'res_id':18204820\n",
    "})\n",
    "data = response.json()\n",
    "for i in data['user_reviews']:\n",
    "    print (  i['review']['user']['name'] , i['review']['rating'] , i['review']['review_text']  )"
   ]
  },
  {
   "cell_type": "markdown",
   "metadata": {},
   "source": [
    "Experiment with the radius parameter that is present in ‘GET/search’. Fetch the list of top 10 best-restaurant present in a radius of 4 km of coding ninjas.\n",
    "Print the restaurant name, user rating, restaurant id and locality in which restaurant is present."
   ]
  },
  {
   "cell_type": "code",
   "execution_count": 114,
   "metadata": {},
   "outputs": [
    {
     "name": "stdout",
     "output_type": "stream",
     "text": [
      "Indian Accent 4.9 2004 The Lodhi, Lodhi Road\n",
      "Pa Pa Ya 4.9 18429148 Select Citywalk Mall, Saket\n",
      "The Big Chill 4.9 1614 Khan Market\n",
      "Kuremal Mohan Lal Kulfi Wale 4.9 303642 Chawri Bazar\n",
      "Dum-Pukht - ITC Maurya 4.9 2744 ITC Maurya, Chanakyapuri\n",
      "The Big Chill 4.9 8244 Khan Market\n",
      "Wenger's 4.8 4249 Connaught Place\n",
      "Manhattan Bar & Brewery 4.8 303960 Global Foyer Mall, Golf Course Road\n",
      "Natural Ice Cream 4.8 310143 Connaught Place\n",
      "Downtown - Diners & Living Beer Cafe 4.8 4959 Sector 29\n"
     ]
    }
   ],
   "source": [
    "response = requests.get('https://developers.zomato.com/api/v2.1/search',headers={\n",
    "    'user-key':'744b1ffcc052dd3e2b54ec2262d406d2'\n",
    "},params={\n",
    "    'count':10,\n",
    "    'radius':4000,\n",
    "    'sort':'rating',\n",
    "    'lat': 28.6977,\n",
    "   'lon': 77.1406,\n",
    "})\n",
    "data = response.json()\n",
    "for i in data['restaurants']:\n",
    "    print(i['restaurant']['name'],i['restaurant']['user_rating']['aggregate_rating'],i['restaurant']['R']['res_id'],\n",
    "         i['restaurant']['location']['locality']\n",
    "         )"
   ]
  },
  {
   "cell_type": "markdown",
   "metadata": {},
   "source": [
    "Compare the location of the restaurant whether really they are in a distance of 4 km to Coding Ninjas. Find out whether these API radius feature is working or not.\n",
    "Print 'yes' if radius feature work else print 'no'."
   ]
  },
  {
   "cell_type": "code",
   "execution_count": 115,
   "metadata": {},
   "outputs": [
    {
     "name": "stdout",
     "output_type": "stream",
     "text": [
      "no\n"
     ]
    }
   ],
   "source": [
    "# Use google search to find whether restaurant lie in range of 4km or not.\n",
    " # Coding Ninjas - Indian Accent 4.9 2004 The Lodhi, Lodhi Road = 26.4 Km\n",
    "print('no')"
   ]
  }
 ],
 "metadata": {
  "kernelspec": {
   "display_name": "Python 3",
   "language": "python",
   "name": "python3"
  },
  "language_info": {
   "codemirror_mode": {
    "name": "ipython",
    "version": 3
   },
   "file_extension": ".py",
   "mimetype": "text/x-python",
   "name": "python",
   "nbconvert_exporter": "python",
   "pygments_lexer": "ipython3",
   "version": "3.7.6"
  }
 },
 "nbformat": 4,
 "nbformat_minor": 4
}
